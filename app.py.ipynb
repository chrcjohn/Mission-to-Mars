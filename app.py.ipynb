{
 "cells": [
  {
   "cell_type": "code",
   "execution_count": 4,
   "id": "72332af9",
   "metadata": {},
   "outputs": [],
   "source": [
    "# Import dependenciesfrom flask import Flask, render_template\n",
    "from flask import Flask, render_template\n",
    "from flask_pymongo import PyMongo\n",
    "#import scraping\n"
   ]
  },
  {
   "cell_type": "code",
   "execution_count": 3,
   "id": "2fc4740b",
   "metadata": {},
   "outputs": [],
   "source": [
    "# Set up a Flask\n",
    "app = Flask(__name__)"
   ]
  },
  {
   "cell_type": "code",
   "execution_count": null,
   "id": "3afb514a",
   "metadata": {},
   "outputs": [],
   "source": [
    "# Use flask_pymongo to set up mongo connection\n",
    "app.config[\"MONGO_URI\"] = \"mongodb://localhost:27017/mars_app\"\n",
    "mongo = PyMongo(app)\n",
    "\n",
    "@app.route(\"/\")\n",
    "def index():\n",
    "   mars = mongo.db.mars.find_one()\n",
    "   return render_template(\"index.html\", mars=mars)\n",
    "\n",
    "@app.route(\"/scrape\")\n",
    "def scrape():\n",
    "   mars = mongo.db.mars\n",
    "   mars_data = scraping.scrape_all()\n",
    "   mars.update({}, mars_data, upsert=True)\n",
    "   return \"Scraping Successful!\"\n",
    "\n",
    "if __name__ == \"__main__\":\n",
    "   app.run()\n",
    "Footer\n",
    "© 2023 GitHub, Inc.\n",
    "Footer navigation\n",
    "Terms\n",
    "Privacy\n",
    "Security\n",
    "Status\n",
    "Docs\n",
    "Contact GitHub\n",
    "Pric"
   ]
  },
  {
   "cell_type": "code",
   "execution_count": null,
   "id": "b4f2bfa6",
   "metadata": {},
   "outputs": [],
   "source": []
  }
 ],
 "metadata": {
  "kernelspec": {
   "display_name": "Python 3 (ipykernel)",
   "language": "python",
   "name": "python3"
  },
  "language_info": {
   "codemirror_mode": {
    "name": "ipython",
    "version": 3
   },
   "file_extension": ".py",
   "mimetype": "text/x-python",
   "name": "python",
   "nbconvert_exporter": "python",
   "pygments_lexer": "ipython3",
   "version": "3.9.12"
  }
 },
 "nbformat": 4,
 "nbformat_minor": 5
}
